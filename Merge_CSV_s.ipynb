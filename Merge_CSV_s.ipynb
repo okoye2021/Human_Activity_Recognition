{
 "cells": [
  {
   "cell_type": "code",
   "execution_count": 1,
   "id": "86348089",
   "metadata": {},
   "outputs": [],
   "source": [
    "import pandas as pd"
   ]
  },
  {
   "cell_type": "code",
   "execution_count": 2,
   "id": "49b15cea",
   "metadata": {},
   "outputs": [],
   "source": [
    "df1 = pd.read_csv(\"data/data1.csv\")\n",
    "df2 = pd.read_csv(\"data/data2.csv\")\n",
    "df3 = pd.read_csv(\"data/data3.csv\")\n",
    "df4 = pd.read_csv(\"data/data4.csv\")\n",
    "df5 = pd.read_csv(\"data/data5.csv\")\n",
    "df6 = pd.read_csv(\"data/data6.csv\")\n",
    "df7 = pd.read_csv(\"data/data7.csv\")\n",
    "df8 = pd.read_csv(\"data/data8.csv\")\n",
    "df9 = pd.read_csv(\"data/data9.csv\")\n",
    "\n",
    "df10 = pd.read_csv(\"data/data10.csv\")\n",
    "df11 = pd.read_csv(\"data/data11.csv\")\n",
    "df12 = pd.read_csv(\"data/data12.csv\")\n",
    "df13 = pd.read_csv(\"data/data13.csv\")\n",
    "df14 = pd.read_csv(\"data/data14.csv\")"
   ]
  },
  {
   "cell_type": "code",
   "execution_count": 3,
   "id": "fecb053e",
   "metadata": {},
   "outputs": [
    {
     "data": {
      "text/plain": [
       "(3850505, 54)"
      ]
     },
     "execution_count": 3,
     "metadata": {},
     "output_type": "execute_result"
    }
   ],
   "source": [
    "frames = [df1, df2, df3, df4, df5, df6, df7, df8, df9, df10, df11, df12, df13, df14]\n",
    "final_df = pd.concat(frames)\n",
    "final_df.shape"
   ]
  },
  {
   "cell_type": "code",
   "execution_count": 4,
   "id": "5546002e",
   "metadata": {},
   "outputs": [
    {
     "data": {
      "text/plain": [
       "<AxesSubplot:>"
      ]
     },
     "execution_count": 4,
     "metadata": {},
     "output_type": "execute_result"
    },
    {
     "data": {
      "image/png": "[encoded data removed]",
      "text/plain": [
       "<Figure size 432x288 with 1 Axes>"
      ]
     },
     "metadata": {
      "needs_background": "light"
     },
     "output_type": "display_data"
    }
   ],
   "source": [
    "final_df['C2'].value_counts().sort_index().plot(kind=\"bar\")"
   ]
  },
  {
   "cell_type": "code",
   "execution_count": 5,
   "id": "fc281637",
   "metadata": {},
   "outputs": [
    {
     "data": {
      "text/plain": [
       "<AxesSubplot:>"
      ]
     },
     "execution_count": 5,
     "metadata": {},
     "output_type": "execute_result"
    },
    {
     "data": {
      "image/png": "[encoded data removed]",
      "text/plain": [
       "<Figure size 432x288 with 1 Axes>"
      ]
     },
     "metadata": {
      "needs_background": "light"
     },
     "output_type": "display_data"
    }
   ],
   "source": [
    "final_df = final_df[final_df['C2'] != 0]\n",
    "final_df['C2'].value_counts().sort_index().plot(kind=\"bar\")"
   ]
  },
  {
   "cell_type": "code",
   "execution_count": 6,
   "id": "86f0dbb4",
   "metadata": {},
   "outputs": [
    {
     "data": {
      "text/plain": [
       "(2724953, 54)"
      ]
     },
     "execution_count": 6,
     "metadata": {},
     "output_type": "execute_result"
    }
   ],
   "source": [
    "final_df.shape"
   ]
  },
  {
   "cell_type": "code",
   "execution_count": 7,
   "id": "a6492e71",
   "metadata": {},
   "outputs": [],
   "source": [
    "# balance with minimum class value\n",
    "# g = final_df.groupby('C2')\n",
    "# balance_df = pd.DataFrame(g.apply(lambda x: x.sample(g.size().min()).reset_index(drop=True)))\n",
    "\n",
    "# balance with custom define value\n",
    "g = final_df.groupby('C2')\n",
    "balance_df = pd.DataFrame(g.apply(lambda x: x.sample(15000).reset_index(drop=True)))"
   ]
  },
  {
   "cell_type": "code",
   "execution_count": 8,
   "id": "75a85b9d",
   "metadata": {},
   "outputs": [
    {
     "data": {
      "image/png": "[encoded data removed]",
      "text/plain": [
       "<Figure size 432x288 with 1 Axes>"
      ]
     },
     "metadata": {
      "needs_background": "light"
     },
     "output_type": "display_data"
    }
   ],
   "source": [
    "balance_df['C2'].value_counts().sort_index().plot(kind='bar')\n",
    "balance_df.to_csv(\"data/balance_df.csv\", index=False)"
   ]
  }
 ],
 "metadata": {
  "kernelspec": {
   "display_name": "Python 3 (ipykernel)",
   "language": "python",
   "name": "python3"
  },
  "language_info": {
   "codemirror_mode": {
    "name": "ipython",
    "version": 3
   },
   "file_extension": ".py",
   "mimetype": "text/x-python",
   "name": "python",
   "nbconvert_exporter": "python",
   "pygments_lexer": "ipython3",
   "version": "3.9.7"
  }
 },
 "nbformat": 4,
 "nbformat_minor": 5
}
