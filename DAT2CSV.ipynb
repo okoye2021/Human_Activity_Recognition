{
 "cells": [
  {
   "cell_type": "code",
   "execution_count": 21,
   "id": "1775100a",
   "metadata": {},
   "outputs": [],
   "source": [
    "import os\n",
    "import pandas as pd"
   ]
  },
  {
   "cell_type": "code",
   "execution_count": 67,
   "id": "2e92da9a",
   "metadata": {},
   "outputs": [],
   "source": [
    "def dataset_prep(df):\n",
    "    data = []\n",
    "    for index, row in df.iterrows():\n",
    "        str_list = row[0].strip().split()\n",
    "        num_list = []\n",
    "        for i in str_list:\n",
    "            if(i!=\"NaN\"):\n",
    "                num_list.append(eval(i))\n",
    "            else:\n",
    "                num_list.append(i)\n",
    "        data.append(num_list)\n",
    "        \n",
    "    return data"
   ]
  },
  {
   "cell_type": "code",
   "execution_count": 68,
   "id": "3c8d9a9d",
   "metadata": {},
   "outputs": [],
   "source": [
    "columns=[\"C\"+str(i) for i in range(1, 55)]"
   ]
  },
  {
   "cell_type": "code",
   "execution_count": 69,
   "id": "e5b3831b",
   "metadata": {},
   "outputs": [
    {
     "name": "stdout",
     "output_type": "stream",
     "text": [
      "Convert .dat data of object 1 into csv...\n",
      "Convert .dat data of object 2 into csv...\n",
      "Convert .dat data of object 3 into csv...\n",
      "Convert .dat data of object 4 into csv...\n",
      "Convert .dat data of object 5 into csv...\n",
      "Convert .dat data of object 6 into csv...\n",
      "Convert .dat data of object 7 into csv...\n",
      "Convert .dat data of object 8 into csv...\n",
      "Convert .dat data of object 9 into csv...\n"
     ]
    }
   ],
   "source": [
    "dataset_dir = \"PAMAP2_Dataset/Protocol/\"\n",
    "\n",
    "file_num = 1\n",
    "for filename in os.listdir(dataset_dir):\n",
    "    print(\"Convert .dat data of object {} into csv...\".format(file_num))\n",
    "    file_path = os.path.join(dataset_dir, filename)\n",
    "    df = pd.read_csv(file_path, header=None)\n",
    "    \n",
    "    data = dataset_prep(df)\n",
    "    \n",
    "    new_df = pd.DataFrame(data, columns=columns)\n",
    "    new_df.to_csv(\"data/data{}.csv\".format(file_num), index=False)\n",
    "    \n",
    "    file_num += 1"
   ]
  },
  {
   "cell_type": "code",
   "execution_count": 70,
   "id": "67fb7a62",
   "metadata": {},
   "outputs": [
    {
     "name": "stdout",
     "output_type": "stream",
     "text": [
      "Convert .dat data of object 10 into csv...\n",
      "Convert .dat data of object 11 into csv...\n",
      "Convert .dat data of object 12 into csv...\n",
      "Convert .dat data of object 13 into csv...\n",
      "Convert .dat data of object 14 into csv...\n"
     ]
    }
   ],
   "source": [
    "dataset_dir = \"PAMAP2_Dataset/Optional/\"\n",
    "\n",
    "file_num = 10\n",
    "for filename in os.listdir(dataset_dir):\n",
    "    print(\"Convert .dat data of object {} into csv...\".format(file_num))\n",
    "    file_path = os.path.join(dataset_dir, filename)\n",
    "    df = pd.read_csv(file_path, header=None)\n",
    "    \n",
    "    data = dataset_prep(df)\n",
    "    \n",
    "    new_df = pd.DataFrame(data, columns=columns)\n",
    "    new_df.to_csv(\"data/data{}.csv\".format(file_num), index=False)\n",
    "    \n",
    "    file_num += 1"
   ]
  },
  {
   "cell_type": "code",
   "execution_count": null,
   "id": "26d3a0ad",
   "metadata": {},
   "outputs": [],
   "source": []
  }
 ],
 "metadata": {
  "kernelspec": {
   "display_name": "Python 3 (ipykernel)",
   "language": "python",
   "name": "python3"
  },
  "language_info": {
   "codemirror_mode": {
    "name": "ipython",
    "version": 3
   },
   "file_extension": ".py",
   "mimetype": "text/x-python",
   "name": "python",
   "nbconvert_exporter": "python",
   "pygments_lexer": "ipython3",
   "version": "3.7.11"
  }
 },
 "nbformat": 4,
 "nbformat_minor": 5
}
